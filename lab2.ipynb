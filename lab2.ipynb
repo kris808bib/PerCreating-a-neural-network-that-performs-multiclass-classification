{
 "cells": [
  {
   "cell_type": "markdown",
   "metadata": {
    "id": "lDJJ0cNmdgKQ"
   },
   "source": [
    "# Лабораторная работа №2\n",
    "\n",
    "Создание нейронной сети, выполняющей мультиклассовую классификацию\n",
    "\n",
    "Выполнила Плотникова Кристина 5 группа"
   ]
  },
  {
   "cell_type": "markdown",
   "metadata": {
    "id": "3OfU4DiyegEw"
   },
   "source": [
    "**Задание (базовый уровень):**\n",
    "Создать модель (без использования готовых решений) перцептрона, которая будет определять к какому классу относится релультат операции {+, -}: {отрицательное число, ноль, положительное число}.\n",
    "\n",
    "**Задание (повышенный уровень):**\n",
    "Создать модель (без использования готовых решений) перцептрона, которая будет определять к какому классу относится релультат операции {+, -, /, *}: {отрицательное число, ноль, положительное число, inf}."
   ]
  },
  {
   "cell_type": "code",
   "execution_count": 13,
   "metadata": {
    "id": "pXZwDlaPeqFg",
    "tags": []
   },
   "outputs": [],
   "source": [
    "import random\n",
    "import numpy as np\n",
    "import math\n",
    "\n",
    "\n",
    "dataset = list()\n",
    "\n",
    "actions = ['+','-']\n",
    "\n",
    "\n",
    "for i in range(10000):\n",
    "  temp = list()\n",
    "  temp.append(random.randint(-100, 100) * 0.01)\n",
    "  temp.append(random.randint(-100, 100) * 0.01)\n",
    "  temp.append(random.randint(0, 1))\n",
    "  if temp[2]:\n",
    "    if temp[0] - temp[1] < 0:\n",
    "      temp.append(0)\n",
    "    elif temp[0] - temp[1] == 0:\n",
    "      temp.append(1)\n",
    "    else:\n",
    "      temp.append(2)\n",
    "  else:\n",
    "    if temp[0] + temp[1] < 0:\n",
    "      temp.append(0)\n",
    "    elif temp[0] + temp[1] == 0:\n",
    "      temp.append(1)\n",
    "    else:\n",
    "      temp.append(2)\n",
    "  dataset.append(temp)\n"
   ]
  },
  {
   "cell_type": "code",
   "execution_count": 14,
   "metadata": {
    "colab": {
     "base_uri": "https://localhost:8080/"
    },
    "id": "jQHItQKLgATl",
    "outputId": "2e4dda92-0ec2-4bef-dc23-0a7509456870",
    "tags": []
   },
   "outputs": [
    {
     "data": {
      "text/plain": [
       "[-0.27, 0.8, 0, 2]"
      ]
     },
     "execution_count": 14,
     "metadata": {},
     "output_type": "execute_result"
    }
   ],
   "source": [
    "random.choice(dataset)"
   ]
  },
  {
   "cell_type": "code",
   "execution_count": null,
   "metadata": {},
   "outputs": [],
   "source": [
    "first_layer_weight_multiclass = np.ones((4, 3))"
   ]
  },
  {
   "cell_type": "code",
   "execution_count": null,
   "metadata": {},
   "outputs": [],
   "source": [
    "def sigmoid(x):\n",
    "    return 1 / (1 + math.exp(-x))\n",
    "\n",
    "def calculate_res_multiclass(input_number, first_layer_weights):\n",
    "    input_array = list(input_number)\n",
    "    sum_array = list()\n",
    "    for j in range(3):\n",
    "        sum_value = 0\n",
    "        for i in range(4):\n",
    "            sum_value += input_array[i] * first_layer_weights[i][j]\n",
    "        sum_array.append(sigmoid(sum_value))\n",
    "    return sum_array"
   ]
  },
  {
   "cell_type": "code",
   "execution_count": null,
   "metadata": {},
   "outputs": [],
   "source": [
    "def result_multiclass(sum_array):\n",
    "    return sum_array.index(max(sum_array))"
   ]
  },
  {
   "cell_type": "code",
   "execution_count": null,
   "metadata": {},
   "outputs": [],
   "source": [
    "def learn_multiclass(input_number, first_layer_weights):\n",
    "    input_array = list(input_number)\n",
    "    if (result_multiclass(calculate_res_multiclass(input_array, first_layer_weights)) != input_array[3]):\n",
    "        for j in range(3):\n",
    "            if j == input_array[3]:\n",
    "                k = 0.1\n",
    "            else:\n",
    "                k = -0.1\n",
    "            for i in range(4):\n",
    "                first_layer_weights[i][j] += input_array[i] * k\n",
    "    return first_layer_weights"
   ]
  },
  {
   "cell_type": "code",
   "execution_count": null,
   "metadata": {},
   "outputs": [],
   "source": [
    "def train_nn_mc(input_dataset, first_layer_weights, size_of_dataset):\n",
    "    for i in range(size_of_dataset):\n",
    "        learn_multiclass(random.choice(input_dataset), first_layer_weights)"
   ]
  },
  {
   "cell_type": "code",
   "execution_count": null,
   "metadata": {},
   "outputs": [],
   "source": [
    "def test_multiclass(input_number, first_layer_weights):\n",
    "    if (result_multiclass(calculate_res_multiclass(input_number, first_layer_weights)) == input_number[3]):\n",
    "        return 1\n",
    "    else:\n",
    "        return 0"
   ]
  },
  {
   "cell_type": "code",
   "execution_count": null,
   "metadata": {},
   "outputs": [],
   "source": [
    "def test_nn_mc(input_dataset, first_layer_weights, size_of_dataset):\n",
    "    res = 0\n",
    "    for i in range(size_of_dataset):\n",
    "        res += test_multiclass(random.choice(input_dataset), first_layer_weights)\n",
    "    return (res / size_of_dataset)"
   ]
  },
  {
   "cell_type": "code",
   "execution_count": 67,
   "metadata": {
    "tags": []
   },
   "outputs": [
    {
     "name": "stdout",
     "output_type": "stream",
     "text": [
      "Точность нейронной сети  0.983\n"
     ]
    }
   ],
   "source": [
    "print(\"Точность нейронной сети \",test_nn_mc(dataset, first_layer_weight_multiclass, 1000))"
   ]
  },
  {
   "cell_type": "code",
   "execution_count": null,
   "metadata": {},
   "outputs": [],
   "source": []
  }
 ],
 "metadata": {
  "colab": {
   "provenance": []
  },
  "kernelspec": {
   "display_name": "Python 3 (ipykernel)",
   "language": "python",
   "name": "python3"
  },
  "language_info": {
   "codemirror_mode": {
    "name": "ipython",
    "version": 3
   },
   "file_extension": ".py",
   "mimetype": "text/x-python",
   "name": "python",
   "nbconvert_exporter": "python",
   "pygments_lexer": "ipython3",
   "version": "3.11.7"
  }
 },
 "nbformat": 4,
 "nbformat_minor": 4
}
